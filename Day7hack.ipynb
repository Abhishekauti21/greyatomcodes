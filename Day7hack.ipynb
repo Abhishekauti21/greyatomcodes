{
  "nbformat": 4,
  "nbformat_minor": 0,
  "metadata": {
    "colab": {
      "name": "Day7hack.ipynb",
      "provenance": [],
      "authorship_tag": "ABX9TyPOhEqB4CK6LxyJIs90r3M1",
      "include_colab_link": true
    },
    "kernelspec": {
      "name": "python3",
      "display_name": "Python 3"
    }
  },
  "cells": [
    {
      "cell_type": "markdown",
      "metadata": {
        "id": "view-in-github",
        "colab_type": "text"
      },
      "source": [
        "<a href=\"https://colab.research.google.com/github/Abhishekauti21/greyatomcodes/blob/master/Day7hack.ipynb\" target=\"_parent\"><img src=\"https://colab.research.google.com/assets/colab-badge.svg\" alt=\"Open In Colab\"/></a>"
      ]
    },
    {
      "cell_type": "code",
      "metadata": {
        "id": "Zm7Afun4_1Xf",
        "colab_type": "code",
        "outputId": "c0bb8978-f458-4fb0-d865-926169edacf1",
        "colab": {
          "base_uri": "https://localhost:8080/",
          "height": 34
        }
      },
      "source": [
        "a={1:\"A\",2:\"B\",3:\"C\",4:\"d\",5:\"E\"}\n",
        "for i,j in a.items():\n",
        "  if i>2:\n",
        "    print(i,j,end=\"\")"
      ],
      "execution_count": 0,
      "outputs": [
        {
          "output_type": "stream",
          "text": [
            "3 C4 d5 E"
          ],
          "name": "stdout"
        }
      ]
    },
    {
      "cell_type": "code",
      "metadata": {
        "id": "FsWevnV5Aeap",
        "colab_type": "code",
        "outputId": "d177e96c-ad1c-484d-a61b-76b4dc4cc297",
        "colab": {
          "base_uri": "https://localhost:8080/",
          "height": 34
        }
      },
      "source": [
        "my_string=\"Hello World!\"\n",
        "k=[(i.upper(),len(i))for i in my_string]\n",
        "print(k)"
      ],
      "execution_count": 0,
      "outputs": [
        {
          "output_type": "stream",
          "text": [
            "[('H', 1), ('E', 1), ('L', 1), ('L', 1), ('O', 1), (' ', 1), ('W', 1), ('O', 1), ('R', 1), ('L', 1), ('D', 1), ('!', 1)]\n"
          ],
          "name": "stdout"
        }
      ]
    },
    {
      "cell_type": "code",
      "metadata": {
        "id": "KC4sUramBDFg",
        "colab_type": "code",
        "outputId": "87820e59-2ee3-4f43-be3b-ef1160166d35",
        "colab": {
          "base_uri": "https://localhost:8080/",
          "height": 34
        }
      },
      "source": [
        "f=None\n",
        "for i in range(10):\n",
        "  with open (\"data.txt\",\"w\")as f:\n",
        "    if i>5:\n",
        "      break\n",
        "print(f.closed)"
      ],
      "execution_count": 0,
      "outputs": [
        {
          "output_type": "stream",
          "text": [
            "True\n"
          ],
          "name": "stdout"
        }
      ]
    },
    {
      "cell_type": "code",
      "metadata": {
        "id": "9-5KCgqwBdvB",
        "colab_type": "code",
        "outputId": "5160dca2-e589-4e7d-8981-4db73dc748f3",
        "colab": {
          "base_uri": "https://localhost:8080/",
          "height": 34
        }
      },
      "source": [
        "sentence=\"data science\"\n",
        "print(sentence.split())"
      ],
      "execution_count": 0,
      "outputs": [
        {
          "output_type": "stream",
          "text": [
            "['data', 'science']\n"
          ],
          "name": "stdout"
        }
      ]
    },
    {
      "cell_type": "code",
      "metadata": {
        "id": "zfPdavfgB6xH",
        "colab_type": "code",
        "outputId": "4757bd7e-e18d-4e8d-9c93-0a8790d3ea4d",
        "colab": {
          "base_uri": "https://localhost:8080/",
          "height": 67
        }
      },
      "source": [
        "def func(a,b=5,c=10):\n",
        "  print('a is',a,'and b is',b,'and c is',c)\n",
        "\n",
        "func(3,8)\n",
        "func(26,c=24)\n",
        "func(c=60,a=100)"
      ],
      "execution_count": 0,
      "outputs": [
        {
          "output_type": "stream",
          "text": [
            "a is 3 and b is 8 and c is 10\n",
            "a is 26 and b is 5 and c is 24\n",
            "a is 100 and b is 5 and c is 60\n"
          ],
          "name": "stdout"
        }
      ]
    },
    {
      "cell_type": "code",
      "metadata": {
        "id": "N_D_e8pfC5DY",
        "colab_type": "code",
        "colab": {}
      },
      "source": [
        "\n",
        "def palindrome_check(num):\n",
        "  num=str(num)\n",
        "  return (num[::-1]==num)  \n",
        "  \n",
        "\n",
        "def palindrome(num):\n",
        "    while(1):\n",
        "        num=num+1\n",
        "        if palindrome_check(num):\n",
        "            return num"
      ],
      "execution_count": 0,
      "outputs": []
    },
    {
      "cell_type": "code",
      "metadata": {
        "id": "WiB6ijBZZrCp",
        "colab_type": "code",
        "colab": {}
      },
      "source": [
        "def a_scramble(str_1,str_2):\n",
        "    result=True\n",
        "    for i in (str_2.lower()):\n",
        "        if i not in (str_1.lower()):\n",
        "            result=False\n",
        "            break\n",
        "        str_1=str_1.replace(i,'',1) \n",
        "    \n",
        "    return (result)"
      ],
      "execution_count": 0,
      "outputs": []
    },
    {
      "cell_type": "code",
      "metadata": {
        "id": "bGhX3jTWbkJQ",
        "colab_type": "code",
        "colab": {}
      },
      "source": [
        "def palindrome_check(num):\n",
        "  num=str(num)\n",
        "  return (num[::-1]==num)  \n",
        "  \n",
        "\n",
        "def palindrome(num):\n",
        "    while(1):\n",
        "        num=num+1\n",
        "        if palindrome_check(num):\n",
        "            return num"
      ],
      "execution_count": 0,
      "outputs": []
    },
    {
      "cell_type": "code",
      "metadata": {
        "id": "rEzupuIYeRe-",
        "colab_type": "code",
        "outputId": "028df3bb-c7cd-48d2-d671-e11d2c9cecfb",
        "colab": {
          "base_uri": "https://localhost:8080/",
          "height": 34
        }
      },
      "source": [
        "palindrome(123)"
      ],
      "execution_count": 0,
      "outputs": [
        {
          "output_type": "execute_result",
          "data": {
            "text/plain": [
              "131"
            ]
          },
          "metadata": {
            "tags": []
          },
          "execution_count": 16
        }
      ]
    },
    {
      "cell_type": "code",
      "metadata": {
        "id": "UMwMcWcMeWmc",
        "colab_type": "code",
        "outputId": "682bb0e3-d255-4168-94ef-0a3f81c7dc73",
        "colab": {
          "base_uri": "https://localhost:8080/",
          "height": 34
        }
      },
      "source": [
        "palindrome_check(123)"
      ],
      "execution_count": 0,
      "outputs": [
        {
          "output_type": "execute_result",
          "data": {
            "text/plain": [
              "False"
            ]
          },
          "metadata": {
            "tags": []
          },
          "execution_count": 17
        }
      ]
    },
    {
      "cell_type": "code",
      "metadata": {
        "id": "JiaBUiA_ebZG",
        "colab_type": "code",
        "colab": {}
      },
      "source": [
        ""
      ],
      "execution_count": 0,
      "outputs": []
    }
  ]
}